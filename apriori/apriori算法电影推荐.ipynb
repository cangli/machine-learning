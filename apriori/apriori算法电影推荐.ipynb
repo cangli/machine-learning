{
 "cells": [
  {
   "cell_type": "code",
   "execution_count": 2,
   "metadata": {
    "collapsed": true
   },
   "outputs": [],
   "source": [
    "from collections import defaultdict\n",
    "import pandas as pd\n",
    "import sys\n",
    "import pickle"
   ]
  },
  {
   "cell_type": "code",
   "execution_count": 80,
   "metadata": {
    "collapsed": true
   },
   "outputs": [],
   "source": [
    "def loadMovieData():\n",
    "    userCol = ['UserID', 'Gender', 'Age', 'Occupation', 'Zip-code']\n",
    "    users = pd.read_csv('u.user', sep='|', names=userCol, engine='python')\n",
    "    ratingCol = ['UserID', 'MovieID', 'Rating', 'Timestamp']\n",
    "    ratings = pd.read_csv('u.data', sep='\\t', names=ratingCol, engine='python')\n",
    "    movieCol = ['MovieID', 'Title', 'Date']\n",
    "    movies = pd.read_csv('u.item', sep='|', names=movieCol, engine='python',usecols = [0,1,2], index_col=0)\n",
    "    return users, ratings, movies"
   ]
  },
  {
   "cell_type": "markdown",
   "metadata": {},
   "source": [
    "# 加载数据集"
   ]
  },
  {
   "cell_type": "code",
   "execution_count": 81,
   "metadata": {
    "collapsed": false
   },
   "outputs": [],
   "source": [
    "usersdf, ratingsdf, moviesdf = loadMovieData()"
   ]
  },
  {
   "cell_type": "markdown",
   "metadata": {},
   "source": [
    "# 只取评分高于3的数据项，视为用户喜欢的电影"
   ]
  },
  {
   "cell_type": "code",
   "execution_count": 4,
   "metadata": {
    "collapsed": false
   },
   "outputs": [],
   "source": [
    "ratingsdf[\"Favorable\"] = ratingsdf[\"Rating\"] > 3\n",
    "ratingsdf = ratingsdf[ratingsdf['Favorable']].drop('Favorable', axis=1)"
   ]
  },
  {
   "cell_type": "markdown",
   "metadata": {},
   "source": [
    "# 创建字典，key为用户ID，value为用户喜欢的所有电影的frozenset"
   ]
  },
  {
   "cell_type": "code",
   "execution_count": 5,
   "metadata": {
    "collapsed": false
   },
   "outputs": [],
   "source": [
    "usersFavorableMoviesDict = dict((k, frozenset(v.values))for k, v in ratingsdf.groupby(\"UserID\")[\"MovieID\"])"
   ]
  },
  {
   "cell_type": "markdown",
   "metadata": {},
   "source": [
    "# 在所有电影数目为k的集合中找出满足最小支持度的频繁集，并创建字典，key为k部电影的fronzeset，value为对应的支持度"
   ]
  },
  {
   "cell_type": "code",
   "execution_count": 6,
   "metadata": {
    "collapsed": false
   },
   "outputs": [],
   "source": [
    "def findFreqSet(usersFavorableMoviesDict, kMovieIter, minSupport):\n",
    "    countDict = defaultdict(int)\n",
    "    for user, favorMovieSet in usersFavorableMoviesDict.items():\n",
    "        for kMovieSet in kMovieIter:\n",
    "            if favorMovieSet.issuperset(kMovieSet):\n",
    "                countDict[kMovieSet] += 1\n",
    "    return dict([(kMovieSet, count) for kMovieSet, count in countDict.items() if count >= minSupport])"
   ]
  },
  {
   "cell_type": "markdown",
   "metadata": {},
   "source": [
    "# 利用k部电影的频繁集与单部电影的频繁集生成k+1部电影的集合，调用上个函数来找出其中的频繁集"
   ]
  },
  {
   "cell_type": "code",
   "execution_count": 7,
   "metadata": {
    "collapsed": true
   },
   "outputs": [],
   "source": [
    "def getKPlusFreqSet(kMovieList, singleMovieList, usersFavorMoviesDict, minSupport=50):\n",
    "    kPlusMovie = dict()\n",
    "    k = len(kMovieList[0])\n",
    "    for kMovieSet in kMovieList:\n",
    "        for singleMovie in singleMovieList:\n",
    "            temp = singleMovie | kMovieSet\n",
    "            if len(temp) == k:\n",
    "                continue\n",
    "            kPlusMovie[singleMovie | kMovieSet] = 1\n",
    "    return findFreqSet(usersFavorMoviesDict, kPlusMovie.keys(), minSupport)"
   ]
  },
  {
   "cell_type": "markdown",
   "metadata": {},
   "source": [
    "# 根据最小支持度先生成单部电影的频繁，然后迭代生成k部电影的频繁集，直至频繁集为空，最后用pickle模块保存至硬盘"
   ]
  },
  {
   "cell_type": "code",
   "execution_count": 8,
   "metadata": {
    "collapsed": true
   },
   "outputs": [],
   "source": [
    "def findAllFreqSet(ratingsdf,minSupport = 100):\n",
    "    usersFavorMoviesDict = dict((k, frozenset(v.values))for k, v in ratingsdf.groupby(\"UserID\")[\"MovieID\"])\n",
    "    movieFavorNums = ratingsdf.groupby('MovieID')['UserID'].count()\n",
    "    singleMovieID = movieFavorNums[movieFavorNums >= minSupport].index\n",
    "    singleMovieList = [frozenset([movieID]) for movieID in singleMovieID]\n",
    "    singleMovieDict = movieFavorNums[movieFavorNums >= minSupport].to_dict()\n",
    "    with open('1movieFreqDict','wb') as f:\n",
    "        pickle.dump(singleMovieDict, f)\n",
    "    kMovieList = singleMovieList\n",
    "    for k in range(2, 100):\n",
    "        print(k)\n",
    "        sys.stdout.flush()\n",
    "        kMovieDict = getKPlusFreqSet(kMovieList, singleMovieList, usersFavorMoviesDict, minSupport)\n",
    "        if not kMovieDict:\n",
    "            break\n",
    "        kMovieList = list(kMovieDict.keys())\n",
    "        with open('{!s}movieFreqDict'.format(k), 'wb') as f:\n",
    "            pickle.dump(kMovieDict, f)\n",
    "        del kMovieDict"
   ]
  },
  {
   "cell_type": "markdown",
   "metadata": {},
   "source": [
    "# 以最小支持度为100，找出所有频繁集"
   ]
  },
  {
   "cell_type": "code",
   "execution_count": null,
   "metadata": {
    "collapsed": true
   },
   "outputs": [],
   "source": [
    "findAllFreqSet(ratingsdf, minSupport=100)"
   ]
  },
  {
   "cell_type": "markdown",
   "metadata": {},
   "source": [
    "# 读出所有频繁集，放入字典"
   ]
  },
  {
   "cell_type": "code",
   "execution_count": 3,
   "metadata": {
    "collapsed": false
   },
   "outputs": [],
   "source": [
    "import re,os\n",
    "freqSetDict = dict()\n",
    "fileList = [file for file in os.listdir() if \"movieFreqDict\" in file]\n",
    "for file in fileList:\n",
    "    num = int(re.match('\\d+', file).group())\n",
    "    with open(file, 'rb') as f:\n",
    "        freqSetDict[num] = pickle.load(f)"
   ]
  },
  {
   "cell_type": "code",
   "execution_count": 22,
   "metadata": {
    "collapsed": false
   },
   "outputs": [
    {
     "name": "stdout",
     "output_type": "stream",
     "text": [
      "Using matplotlib backend: Qt5Agg\n"
     ]
    }
   ],
   "source": [
    "from pylab import *\n",
    "mpl.rcParams['font.sans-serif'] = ['Microsoft YaHei']\n",
    "%matplotlib\n",
    "import seaborn as sns\n",
    "sns.set_context(\"talk\")"
   ]
  },
  {
   "cell_type": "code",
   "execution_count": 23,
   "metadata": {
    "collapsed": false
   },
   "outputs": [
    {
     "data": {
      "text/plain": [
       "<matplotlib.text.Text at 0xc1d3be0>"
      ]
     },
     "execution_count": 23,
     "metadata": {},
     "output_type": "execute_result"
    }
   ],
   "source": [
    "kMovieCount = dict((k, len(v)) for k, v in freqSetDict.items())\n",
    "ax = sns.barplot(x=list(kMovieCount.keys()),y=list(kMovieCount.values()))\n",
    "ax.set_title('频繁集数随电影数k的变化')\n",
    "ax.set_xlabel('电影数k')\n",
    "ax.set_ylabel('频繁集数')"
   ]
  },
  {
   "cell_type": "markdown",
   "metadata": {},
   "source": [
    "![频繁集数随电影数k的变化](freqSetCount.png \"Optional title\")"
   ]
  },
  {
   "cell_type": "markdown",
   "metadata": {},
   "source": [
    "# 取出所有k=5的频繁集计算其中每一部电影相对于k=4的置信度"
   ]
  },
  {
   "cell_type": "code",
   "execution_count": 124,
   "metadata": {
    "collapsed": false
   },
   "outputs": [],
   "source": [
    "confidenceDict = defaultdict(dict)\n",
    "confidenceDictEachMovie = defaultdict(list)\n",
    "for movieFreqSet in freqSetDict[5]:\n",
    "    count = freqSetDict[5][movieFreqSet]\n",
    "    for movie in movieFreqSet:\n",
    "        confidence = count/freqSetDict[4][movieFreqSet - frozenset([movie])]\n",
    "        confidenceDict[movieFreqSet - frozenset([movie])][movie]=confidence\n",
    "        confidenceDictEachMovie[movie].append(confidence)"
   ]
  },
  {
   "cell_type": "markdown",
   "metadata": {},
   "source": [
    "# 该函数可以将电影ID或者电影ID集合转换为对应电影标题的字符串"
   ]
  },
  {
   "cell_type": "code",
   "execution_count": 115,
   "metadata": {
    "collapsed": false
   },
   "outputs": [],
   "source": [
    "def getTitleByMovieID(movie):\n",
    "    if isinstance(movie, frozenset):\n",
    "        return (',').join([moviesdf.ix[movieID].Title for movieID in movie])\n",
    "    else:\n",
    "        try:\n",
    "            return moviesdf.ix[int(movie)].Title\n",
    "        except:\n",
    "            raise TypeError(\"the input must be the movieID number or the frozenset of movieID numbers\")"
   ]
  },
  {
   "cell_type": "markdown",
   "metadata": {},
   "source": [
    "# 对于已经观看的四部电影的用户，可以根据置信度推荐下一部可观看的电影"
   ]
  },
  {
   "cell_type": "code",
   "execution_count": 151,
   "metadata": {
    "collapsed": false,
    "scrolled": true
   },
   "outputs": [
    {
     "name": "stdout",
     "output_type": "stream",
     "text": [
      "对于观看了Indiana Jones and the Last Crusade (1989),Empire Strikes Back, The (1980),Princess Bride, The (1987),Raiders of the Lost Ark (1981)的观众，推荐观看Star Wars (1977)，置信度为100.00%\n",
      "--------------------------------------------------------------------------------------------------------------------\n",
      "对于观看了Star Wars (1977),Terminator, The (1984),Princess Bride, The (1987),Raiders of the Lost Ark (1981)的观众，推荐观看Empire Strikes Back, The (1980)，置信度为91.23%\n",
      "--------------------------------------------------------------------------------------------------------------------\n",
      "对于观看了Star Wars (1977),Back to the Future (1985),Forrest Gump (1994),Raiders of the Lost Ark (1981)的观众，推荐观看Empire Strikes Back, The (1980)，置信度为93.64%\n",
      "--------------------------------------------------------------------------------------------------------------------\n",
      "对于观看了Indiana Jones and the Last Crusade (1989),Star Wars (1977),Princess Bride, The (1987),Raiders of the Lost Ark (1981)的观众，推荐观看Empire Strikes Back, The (1980)，置信度为94.69%\n",
      "--------------------------------------------------------------------------------------------------------------------\n",
      "对于观看了Terminator 2: Judgment Day (1991),Terminator, The (1984),Empire Strikes Back, The (1980),Return of the Jedi (1983)的观众，推荐观看Star Wars (1977)，置信度为98.06%\n",
      "--------------------------------------------------------------------------------------------------------------------\n",
      "对于观看了Terminator 2: Judgment Day (1991),Terminator, The (1984),Empire Strikes Back, The (1980),Return of the Jedi (1983)的观众，推荐观看Raiders of the Lost Ark (1981)，置信度为98.06%\n",
      "--------------------------------------------------------------------------------------------------------------------\n",
      "对于观看了Indiana Jones and the Last Crusade (1989),Star Wars (1977),Return of the Jedi (1983),Raiders of the Lost Ark (1981)的观众，推荐观看Empire Strikes Back, The (1980)，置信度为93.75%\n",
      "--------------------------------------------------------------------------------------------------------------------\n",
      "对于观看了Monty Python and the Holy Grail (1974),Silence of the Lambs, The (1991),Empire Strikes Back, The (1980),Star Wars (1977)的观众，推荐观看Raiders of the Lost Ark (1981)，置信度为91.82%\n",
      "--------------------------------------------------------------------------------------------------------------------\n",
      "对于观看了Silence of the Lambs, The (1991),Star Wars (1977),Return of the Jedi (1983),Fugitive, The (1993)的观众，推荐观看Raiders of the Lost Ark (1981)，置信度为90.52%\n",
      "--------------------------------------------------------------------------------------------------------------------\n",
      "对于观看了Terminator 2: Judgment Day (1991),Star Wars (1977),Empire Strikes Back, The (1980),Fugitive, The (1993)的观众，推荐观看Raiders of the Lost Ark (1981)，置信度为91.45%\n",
      "--------------------------------------------------------------------------------------------------------------------\n",
      "对于观看了Indiana Jones and the Last Crusade (1989),Back to the Future (1985),Star Wars (1977),Raiders of the Lost Ark (1981)的观众，推荐观看Empire Strikes Back, The (1980)，置信度为92.74%\n",
      "--------------------------------------------------------------------------------------------------------------------\n",
      "对于观看了Indiana Jones and the Last Crusade (1989),Star Wars (1977),Return of the Jedi (1983),Silence of the Lambs, The (1991)的观众，推荐观看Empire Strikes Back, The (1980)，置信度为93.46%\n",
      "--------------------------------------------------------------------------------------------------------------------\n",
      "对于观看了Indiana Jones and the Last Crusade (1989),Star Wars (1977),Return of the Jedi (1983),Silence of the Lambs, The (1991)的观众，推荐观看Raiders of the Lost Ark (1981)，置信度为93.46%\n",
      "--------------------------------------------------------------------------------------------------------------------\n",
      "对于观看了Indiana Jones and the Last Crusade (1989),Back to the Future (1985),Empire Strikes Back, The (1980),Star Wars (1977)的观众，推荐观看Raiders of the Lost Ark (1981)，置信度为96.64%\n",
      "--------------------------------------------------------------------------------------------------------------------\n",
      "对于观看了Star Wars (1977),Back to the Future (1985),Empire Strikes Back, The (1980),Princess Bride, The (1987)的观众，推荐观看Raiders of the Lost Ark (1981)，置信度为95.33%\n",
      "--------------------------------------------------------------------------------------------------------------------\n",
      "对于观看了Monty Python and the Holy Grail (1974),Star Wars (1977),Empire Strikes Back, The (1980),Princess Bride, The (1987)的观众，推荐观看Raiders of the Lost Ark (1981)，置信度为93.69%\n",
      "--------------------------------------------------------------------------------------------------------------------\n",
      "对于观看了Empire Strikes Back, The (1980),Princess Bride, The (1987),Raiders of the Lost Ark (1981),Fugitive, The (1993)的观众，推荐观看Star Wars (1977)，置信度为100.00%\n",
      "--------------------------------------------------------------------------------------------------------------------\n",
      "对于观看了Empire Strikes Back, The (1980),Return of the Jedi (1983),Raiders of the Lost Ark (1981),Braveheart (1995)的观众，推荐观看Star Wars (1977)，置信度为97.50%\n",
      "--------------------------------------------------------------------------------------------------------------------\n",
      "对于观看了Terminator 2: Judgment Day (1991),Silence of the Lambs, The (1991),Empire Strikes Back, The (1980),Star Wars (1977)的观众，推荐观看Raiders of the Lost Ark (1981)，置信度为91.74%\n",
      "--------------------------------------------------------------------------------------------------------------------\n",
      "对于观看了Indiana Jones and the Last Crusade (1989),Empire Strikes Back, The (1980),Return of the Jedi (1983),Silence of the Lambs, The (1991)的观众，推荐观看Star Wars (1977)，置信度为98.04%\n",
      "--------------------------------------------------------------------------------------------------------------------\n",
      "对于观看了Star Wars (1977),Back to the Future (1985),Empire Strikes Back, The (1980),Return of the Jedi (1983)的观众，推荐观看Raiders of the Lost Ark (1981)，置信度为93.28%\n",
      "--------------------------------------------------------------------------------------------------------------------\n",
      "对于观看了Indiana Jones and the Last Crusade (1989),Terminator, The (1984),Empire Strikes Back, The (1980),Star Wars (1977)的观众，推荐观看Raiders of the Lost Ark (1981)，置信度为98.23%\n",
      "--------------------------------------------------------------------------------------------------------------------\n",
      "对于观看了Silence of the Lambs, The (1991),Forrest Gump (1994),Empire Strikes Back, The (1980),Star Wars (1977)的观众，推荐观看Raiders of the Lost Ark (1981)，置信度为97.32%\n",
      "--------------------------------------------------------------------------------------------------------------------\n",
      "对于观看了Shawshank Redemption, The (1994),Empire Strikes Back, The (1980),Return of the Jedi (1983),Raiders of the Lost Ark (1981)的观众，推荐观看Star Wars (1977)，置信度为97.27%\n",
      "--------------------------------------------------------------------------------------------------------------------\n",
      "对于观看了Star Wars (1977),Return of the Jedi (1983),Raiders of the Lost Ark (1981),Alien (1979)的观众，推荐观看Empire Strikes Back, The (1980)，置信度为90.16%\n",
      "--------------------------------------------------------------------------------------------------------------------\n",
      "对于观看了Indiana Jones and the Last Crusade (1989),Terminator, The (1984),Star Wars (1977),Raiders of the Lost Ark (1981)的观众，推荐观看Empire Strikes Back, The (1980)，置信度为96.52%\n",
      "--------------------------------------------------------------------------------------------------------------------\n",
      "对于观看了Silence of the Lambs, The (1991),Empire Strikes Back, The (1980),Raiders of the Lost Ark (1981),Alien (1979)的观众，推荐观看Star Wars (1977)，置信度为97.09%\n",
      "--------------------------------------------------------------------------------------------------------------------\n",
      "对于观看了Indiana Jones and the Last Crusade (1989),Back to the Future (1985),Empire Strikes Back, The (1980),Raiders of the Lost Ark (1981)的观众，推荐观看Star Wars (1977)，置信度为98.29%\n",
      "--------------------------------------------------------------------------------------------------------------------\n",
      "对于观看了Silence of the Lambs, The (1991),Terminator, The (1984),Empire Strikes Back, The (1980),Star Wars (1977)的观众，推荐观看Raiders of the Lost Ark (1981)，置信度为97.41%\n",
      "--------------------------------------------------------------------------------------------------------------------\n",
      "对于观看了Terminator, The (1984),Empire Strikes Back, The (1980),Raiders of the Lost Ark (1981),Fugitive, The (1993)的观众，推荐观看Star Wars (1977)，置信度为97.22%\n",
      "--------------------------------------------------------------------------------------------------------------------\n",
      "对于观看了Silence of the Lambs, The (1991),Empire Strikes Back, The (1980),Princess Bride, The (1987),Raiders of the Lost Ark (1981)的观众，推荐观看Star Wars (1977)，置信度为99.13%\n",
      "--------------------------------------------------------------------------------------------------------------------\n",
      "对于观看了Terminator 2: Judgment Day (1991),Star Wars (1977),Princess Bride, The (1987),Raiders of the Lost Ark (1981)的观众，推荐观看Empire Strikes Back, The (1980)，置信度为93.69%\n",
      "--------------------------------------------------------------------------------------------------------------------\n",
      "对于观看了Silence of the Lambs, The (1991),Back to the Future (1985),Star Wars (1977),Raiders of the Lost Ark (1981)的观众，推荐观看Empire Strikes Back, The (1980)，置信度为91.13%\n",
      "--------------------------------------------------------------------------------------------------------------------\n",
      "对于观看了Star Wars (1977),Empire Strikes Back, The (1980),Return of the Jedi (1983),Braveheart (1995)的观众，推荐观看Raiders of the Lost Ark (1981)，置信度为90.70%\n",
      "--------------------------------------------------------------------------------------------------------------------\n",
      "对于观看了Silence of the Lambs, The (1991),Empire Strikes Back, The (1980),Star Wars (1977),Braveheart (1995)的观众，推荐观看Raiders of the Lost Ark (1981)，置信度为93.58%\n",
      "--------------------------------------------------------------------------------------------------------------------\n",
      "对于观看了Silence of the Lambs, The (1991),Empire Strikes Back, The (1980),Raiders of the Lost Ark (1981),Fugitive, The (1993)的观众，推荐观看Star Wars (1977)，置信度为96.55%\n",
      "--------------------------------------------------------------------------------------------------------------------\n",
      "对于观看了Terminator 2: Judgment Day (1991),Star Wars (1977),Raiders of the Lost Ark (1981),Alien (1979)的观众，推荐观看Empire Strikes Back, The (1980)，置信度为92.66%\n",
      "--------------------------------------------------------------------------------------------------------------------\n",
      "对于观看了Pulp Fiction (1994),Silence of the Lambs, The (1991),Empire Strikes Back, The (1980),Raiders of the Lost Ark (1981)的观众，推荐观看Star Wars (1977)，置信度为95.54%\n",
      "--------------------------------------------------------------------------------------------------------------------\n",
      "对于观看了Silence of the Lambs, The (1991),Return of the Jedi (1983),Raiders of the Lost Ark (1981),Fugitive, The (1993)的观众，推荐观看Star Wars (1977)，置信度为97.22%\n",
      "--------------------------------------------------------------------------------------------------------------------\n",
      "对于观看了Silence of the Lambs, The (1991),Empire Strikes Back, The (1980),Back to the Future (1985),Raiders of the Lost Ark (1981)的观众，推荐观看Star Wars (1977)，置信度为95.76%\n",
      "--------------------------------------------------------------------------------------------------------------------\n",
      "对于观看了Star Wars (1977),Back to the Future (1985),Princess Bride, The (1987),Raiders of the Lost Ark (1981)的观众，推荐观看Empire Strikes Back, The (1980)，置信度为92.73%\n",
      "--------------------------------------------------------------------------------------------------------------------\n",
      "对于观看了Indiana Jones and the Last Crusade (1989),Return of the Jedi (1983),Raiders of the Lost Ark (1981),Silence of the Lambs, The (1991)的观众，推荐观看Star Wars (1977)，置信度为99.01%\n",
      "--------------------------------------------------------------------------------------------------------------------\n",
      "对于观看了Indiana Jones and the Last Crusade (1989),Empire Strikes Back, The (1980),Star Wars (1977),Silence of the Lambs, The (1991)的观众，推荐观看Raiders of the Lost Ark (1981)，置信度为96.46%\n",
      "--------------------------------------------------------------------------------------------------------------------\n",
      "对于观看了Terminator 2: Judgment Day (1991),Star Wars (1977),Terminator, The (1984),Fugitive, The (1993)的观众，推荐观看Raiders of the Lost Ark (1981)，置信度为96.30%\n",
      "--------------------------------------------------------------------------------------------------------------------\n",
      "对于观看了Pulp Fiction (1994),Empire Strikes Back, The (1980),Princess Bride, The (1987),Raiders of the Lost Ark (1981)的观众，推荐观看Star Wars (1977)，置信度为99.02%\n",
      "--------------------------------------------------------------------------------------------------------------------\n",
      "对于观看了Terminator 2: Judgment Day (1991),Silence of the Lambs, The (1991),Empire Strikes Back, The (1980),Raiders of the Lost Ark (1981)的观众，推荐观看Star Wars (1977)，置信度为96.15%\n",
      "--------------------------------------------------------------------------------------------------------------------\n",
      "对于观看了Back to the Future (1985),Empire Strikes Back, The (1980),Return of the Jedi (1983),Raiders of the Lost Ark (1981)的观众，推荐观看Star Wars (1977)，置信度为97.66%\n",
      "--------------------------------------------------------------------------------------------------------------------\n",
      "对于观看了Star Wars (1977),Empire Strikes Back, The (1980),Return of the Jedi (1983),Alien (1979)的观众，推荐观看Raiders of the Lost Ark (1981)，置信度为90.16%\n",
      "--------------------------------------------------------------------------------------------------------------------\n",
      "对于观看了Terminator 2: Judgment Day (1991),Indiana Jones and the Last Crusade (1989),Empire Strikes Back, The (1980),Star Wars (1977)的观众，推荐观看Raiders of the Lost Ark (1981)，置信度为96.36%\n",
      "--------------------------------------------------------------------------------------------------------------------\n",
      "对于观看了Toy Story (1995),Empire Strikes Back, The (1980),Return of the Jedi (1983),Raiders of the Lost Ark (1981)的观众，推荐观看Star Wars (1977)，置信度为97.30%\n",
      "--------------------------------------------------------------------------------------------------------------------\n",
      "对于观看了Silence of the Lambs, The (1991),Empire Strikes Back, The (1980),Star Wars (1977),Princess Bride, The (1987)的观众，推荐观看Raiders of the Lost Ark (1981)，置信度为95.80%\n",
      "--------------------------------------------------------------------------------------------------------------------\n",
      "对于观看了Pulp Fiction (1994),Empire Strikes Back, The (1980),Raiders of the Lost Ark (1981),Fugitive, The (1993)的观众，推荐观看Star Wars (1977)，置信度为97.20%\n",
      "--------------------------------------------------------------------------------------------------------------------\n",
      "对于观看了Terminator 2: Judgment Day (1991),Indiana Jones and the Last Crusade (1989),Star Wars (1977),Raiders of the Lost Ark (1981)的观众，推荐观看Empire Strikes Back, The (1980)，置信度为93.81%\n",
      "--------------------------------------------------------------------------------------------------------------------\n",
      "对于观看了Empire Strikes Back, The (1980),Back to the Future (1985),Raiders of the Lost Ark (1981),Fugitive, The (1993)的观众，推荐观看Star Wars (1977)，置信度为97.35%\n",
      "--------------------------------------------------------------------------------------------------------------------\n",
      "对于观看了Star Wars (1977),Empire Strikes Back, The (1980),Braveheart (1995),Fugitive, The (1993)的观众，推荐观看Raiders of the Lost Ark (1981)，置信度为91.89%\n",
      "--------------------------------------------------------------------------------------------------------------------\n",
      "对于观看了Indiana Jones and the Last Crusade (1989),Empire Strikes Back, The (1980),Return of the Jedi (1983),Raiders of the Lost Ark (1981)的观众，推荐观看Star Wars (1977)，置信度为99.26%\n",
      "--------------------------------------------------------------------------------------------------------------------\n",
      "对于观看了Shawshank Redemption, The (1994),Silence of the Lambs, The (1991),Empire Strikes Back, The (1980),Return of the Jedi (1983)的观众，推荐观看Star Wars (1977)，置信度为97.09%\n",
      "--------------------------------------------------------------------------------------------------------------------\n",
      "对于观看了Pulp Fiction (1994),Indiana Jones and the Last Crusade (1989),Empire Strikes Back, The (1980),Star Wars (1977)的观众，推荐观看Raiders of the Lost Ark (1981)，置信度为93.58%\n",
      "--------------------------------------------------------------------------------------------------------------------\n",
      "对于观看了Terminator 2: Judgment Day (1991),Empire Strikes Back, The (1980),Raiders of the Lost Ark (1981),Fugitive, The (1993)的观众，推荐观看Star Wars (1977)，置信度为98.17%\n",
      "--------------------------------------------------------------------------------------------------------------------\n",
      "对于观看了Pulp Fiction (1994),Indiana Jones and the Last Crusade (1989),Star Wars (1977),Raiders of the Lost Ark (1981)的观众，推荐观看Empire Strikes Back, The (1980)，置信度为91.89%\n",
      "--------------------------------------------------------------------------------------------------------------------\n",
      "对于观看了Indiana Jones and the Last Crusade (1989),Empire Strikes Back, The (1980),Return of the Jedi (1983),Fugitive, The (1993)的观众，推荐观看Star Wars (1977)，置信度为99.04%\n",
      "--------------------------------------------------------------------------------------------------------------------\n",
      "对于观看了Terminator 2: Judgment Day (1991),Pulp Fiction (1994),Empire Strikes Back, The (1980),Raiders of the Lost Ark (1981)的观众，推荐观看Star Wars (1977)，置信度为95.28%\n",
      "--------------------------------------------------------------------------------------------------------------------\n",
      "对于观看了Silence of the Lambs, The (1991),Princess Bride, The (1987),Raiders of the Lost Ark (1981),Return of the Jedi (1983)的观众，推荐观看Star Wars (1977)，置信度为99.07%\n",
      "--------------------------------------------------------------------------------------------------------------------\n",
      "对于观看了Silence of the Lambs, The (1991),Princess Bride, The (1987),Raiders of the Lost Ark (1981),Return of the Jedi (1983)的观众，推荐观看Empire Strikes Back, The (1980)，置信度为93.46%\n",
      "--------------------------------------------------------------------------------------------------------------------\n",
      "对于观看了Back to the Future (1985),Terminator, The (1984),Empire Strikes Back, The (1980),Raiders of the Lost Ark (1981)的观众，推荐观看Star Wars (1977)，置信度为95.24%\n",
      "--------------------------------------------------------------------------------------------------------------------\n",
      "对于观看了Star Wars (1977),Terminator, The (1984),Return of the Jedi (1983),Raiders of the Lost Ark (1981)的观众，推荐观看Empire Strikes Back, The (1980)，置信度为91.60%\n",
      "--------------------------------------------------------------------------------------------------------------------\n",
      "对于观看了Silence of the Lambs, The (1991),Empire Strikes Back, The (1980),Return of the Jedi (1983),Fugitive, The (1993)的观众，推荐观看Star Wars (1977)，置信度为98.10%\n",
      "--------------------------------------------------------------------------------------------------------------------\n",
      "对于观看了Terminator 2: Judgment Day (1991),Empire Strikes Back, The (1980),Raiders of the Lost Ark (1981),Alien (1979)的观众，推荐观看Star Wars (1977)，置信度为98.06%\n",
      "--------------------------------------------------------------------------------------------------------------------\n",
      "对于观看了Terminator, The (1984),Empire Strikes Back, The (1980),Return of the Jedi (1983),Raiders of the Lost Ark (1981)的观众，推荐观看Star Wars (1977)，置信度为96.77%\n",
      "--------------------------------------------------------------------------------------------------------------------\n",
      "对于观看了Terminator 2: Judgment Day (1991),Star Wars (1977),Empire Strikes Back, The (1980),Princess Bride, The (1987)的观众，推荐观看Raiders of the Lost Ark (1981)，置信度为93.69%\n",
      "--------------------------------------------------------------------------------------------------------------------\n",
      "对于观看了Terminator 2: Judgment Day (1991),Empire Strikes Back, The (1980),Return of the Jedi (1983),Raiders of the Lost Ark (1981)的观众，推荐观看Star Wars (1977)，置信度为98.32%\n",
      "--------------------------------------------------------------------------------------------------------------------\n",
      "对于观看了Silence of the Lambs, The (1991),Empire Strikes Back, The (1980),Back to the Future (1985),Star Wars (1977)的观众，推荐观看Raiders of the Lost Ark (1981)，置信度为94.17%\n",
      "--------------------------------------------------------------------------------------------------------------------\n",
      "对于观看了Aliens (1986),Empire Strikes Back, The (1980),Raiders of the Lost Ark (1981),Alien (1979)的观众，推荐观看Star Wars (1977)，置信度为97.12%\n",
      "--------------------------------------------------------------------------------------------------------------------\n",
      "对于观看了Star Wars (1977),Empire Strikes Back, The (1980),Return of the Jedi (1983),E.T. the Extra-Terrestrial (1982)的观众，推荐观看Raiders of the Lost Ark (1981)，置信度为90.09%\n",
      "--------------------------------------------------------------------------------------------------------------------\n",
      "对于观看了Star Wars (1977),Terminator, The (1984),Empire Strikes Back, The (1980),Princess Bride, The (1987)的观众，推荐观看Raiders of the Lost Ark (1981)，置信度为99.05%\n",
      "--------------------------------------------------------------------------------------------------------------------\n",
      "对于观看了Indiana Jones and the Last Crusade (1989),Empire Strikes Back, The (1980),Raiders of the Lost Ark (1981),Silence of the Lambs, The (1991)的观众，推荐观看Star Wars (1977)，置信度为97.32%\n",
      "--------------------------------------------------------------------------------------------------------------------\n",
      "对于观看了Fugitive, The (1993),Return of the Jedi (1983),Raiders of the Lost Ark (1981),Princess Bride, The (1987)的观众，推荐观看Star Wars (1977)，置信度为100.00%\n",
      "--------------------------------------------------------------------------------------------------------------------\n",
      "对于观看了Star Wars (1977),Return of the Jedi (1983),Raiders of the Lost Ark (1981),E.T. the Extra-Terrestrial (1982)的观众，推荐观看Empire Strikes Back, The (1980)，置信度为90.91%\n",
      "--------------------------------------------------------------------------------------------------------------------\n",
      "对于观看了Pulp Fiction (1994),Star Wars (1977),Empire Strikes Back, The (1980),Princess Bride, The (1987)的观众，推荐观看Raiders of the Lost Ark (1981)，置信度为92.66%\n",
      "--------------------------------------------------------------------------------------------------------------------\n",
      "对于观看了Pulp Fiction (1994),Empire Strikes Back, The (1980),Return of the Jedi (1983),Raiders of the Lost Ark (1981)的观众，推荐观看Star Wars (1977)，置信度为98.29%\n",
      "--------------------------------------------------------------------------------------------------------------------\n",
      "对于观看了Empire Strikes Back, The (1980),Return of the Jedi (1983),Raiders of the Lost Ark (1981),Fugitive, The (1993)的观众，推荐观看Star Wars (1977)，置信度为98.41%\n",
      "--------------------------------------------------------------------------------------------------------------------\n",
      "对于观看了Terminator 2: Judgment Day (1991),Indiana Jones and the Last Crusade (1989),Empire Strikes Back, The (1980),Raiders of the Lost Ark (1981)的观众，推荐观看Star Wars (1977)，置信度为98.15%\n",
      "--------------------------------------------------------------------------------------------------------------------\n",
      "对于观看了Indiana Jones and the Last Crusade (1989),Terminator, The (1984),Empire Strikes Back, The (1980),Raiders of the Lost Ark (1981)的观众，推荐观看Star Wars (1977)，置信度为98.23%\n",
      "--------------------------------------------------------------------------------------------------------------------\n",
      "对于观看了Silence of the Lambs, The (1991),Forrest Gump (1994),Raiders of the Lost Ark (1981),Return of the Jedi (1983)的观众，推荐观看Star Wars (1977)，置信度为99.02%\n",
      "--------------------------------------------------------------------------------------------------------------------\n",
      "对于观看了Star Wars (1977),Empire Strikes Back, The (1980),Back to the Future (1985),Fugitive, The (1993)的观众，推荐观看Raiders of the Lost Ark (1981)，置信度为94.83%\n",
      "--------------------------------------------------------------------------------------------------------------------\n",
      "对于观看了Empire Strikes Back, The (1980),Princess Bride, The (1987),Raiders of the Lost Ark (1981),Return of the Jedi (1983)的观众，推荐观看Star Wars (1977)，置信度为99.22%\n",
      "--------------------------------------------------------------------------------------------------------------------\n",
      "对于观看了Terminator 2: Judgment Day (1991),Terminator, The (1984),Return of the Jedi (1983),Raiders of the Lost Ark (1981)的观众，推荐观看Star Wars (1977)，置信度为98.17%\n",
      "--------------------------------------------------------------------------------------------------------------------\n",
      "对于观看了Terminator 2: Judgment Day (1991),Terminator, The (1984),Return of the Jedi (1983),Raiders of the Lost Ark (1981)的观众，推荐观看Empire Strikes Back, The (1980)，置信度为92.66%\n",
      "--------------------------------------------------------------------------------------------------------------------\n",
      "对于观看了Terminator 2: Judgment Day (1991),Star Wars (1977),Terminator, The (1984),Empire Strikes Back, The (1980)的观众，推荐观看Raiders of the Lost Ark (1981)，置信度为96.80%\n",
      "--------------------------------------------------------------------------------------------------------------------\n",
      "对于观看了Monty Python and the Holy Grail (1974),Indiana Jones and the Last Crusade (1989),Empire Strikes Back, The (1980),Raiders of the Lost Ark (1981)的观众，推荐观看Star Wars (1977)，置信度为98.15%\n",
      "--------------------------------------------------------------------------------------------------------------------\n",
      "对于观看了Indiana Jones and the Last Crusade (1989),Back to the Future (1985),Return of the Jedi (1983),Raiders of the Lost Ark (1981)的观众，推荐观看Star Wars (1977)，置信度为98.11%\n",
      "--------------------------------------------------------------------------------------------------------------------\n",
      "对于观看了Indiana Jones and the Last Crusade (1989),Back to the Future (1985),Return of the Jedi (1983),Raiders of the Lost Ark (1981)的观众，推荐观看Empire Strikes Back, The (1980)，置信度为95.28%\n",
      "--------------------------------------------------------------------------------------------------------------------\n",
      "对于观看了Star Wars (1977),Forrest Gump (1994),Raiders of the Lost Ark (1981),Return of the Jedi (1983)的观众，推荐观看Empire Strikes Back, The (1980)，置信度为92.80%\n",
      "--------------------------------------------------------------------------------------------------------------------\n",
      "对于观看了Indiana Jones and the Last Crusade (1989),Empire Strikes Back, The (1980),Star Wars (1977),Braveheart (1995)的观众，推荐观看Raiders of the Lost Ark (1981)，置信度为93.81%\n",
      "--------------------------------------------------------------------------------------------------------------------\n",
      "对于观看了Aliens (1986),Star Wars (1977),Terminator, The (1984),Empire Strikes Back, The (1980)的观众，推荐观看Raiders of the Lost Ark (1981)，置信度为97.14%\n",
      "--------------------------------------------------------------------------------------------------------------------\n",
      "对于观看了Terminator 2: Judgment Day (1991),Back to the Future (1985),Empire Strikes Back, The (1980),Raiders of the Lost Ark (1981)的观众，推荐观看Star Wars (1977)，置信度为97.17%\n",
      "--------------------------------------------------------------------------------------------------------------------\n",
      "对于观看了Terminator 2: Judgment Day (1991),Star Wars (1977),Terminator, The (1984),Return of the Jedi (1983)的观众，推荐观看Empire Strikes Back, The (1980)，置信度为92.66%\n",
      "--------------------------------------------------------------------------------------------------------------------\n",
      "对于观看了Terminator 2: Judgment Day (1991),Star Wars (1977),Terminator, The (1984),Return of the Jedi (1983)的观众，推荐观看Raiders of the Lost Ark (1981)，置信度为98.17%\n",
      "--------------------------------------------------------------------------------------------------------------------\n",
      "对于观看了Indiana Jones and the Last Crusade (1989),Star Wars (1977),Raiders of the Lost Ark (1981),Fugitive, The (1993)的观众，推荐观看Empire Strikes Back, The (1980)，置信度为92.74%\n",
      "--------------------------------------------------------------------------------------------------------------------\n",
      "对于观看了Star Wars (1977),Return of the Jedi (1983),Fugitive, The (1993),Princess Bride, The (1987)的观众，推荐观看Raiders of the Lost Ark (1981)，置信度为92.59%\n",
      "--------------------------------------------------------------------------------------------------------------------\n",
      "对于观看了Indiana Jones and the Last Crusade (1989),Empire Strikes Back, The (1980),Star Wars (1977),Princess Bride, The (1987)的观众，推荐观看Raiders of the Lost Ark (1981)，置信度为94.69%\n",
      "--------------------------------------------------------------------------------------------------------------------\n",
      "对于观看了Terminator, The (1984),Empire Strikes Back, The (1980),Raiders of the Lost Ark (1981),Alien (1979)的观众，推荐观看Star Wars (1977)，置信度为97.14%\n",
      "--------------------------------------------------------------------------------------------------------------------\n",
      "对于观看了Star Wars (1977),Back to the Future (1985),Empire Strikes Back, The (1980),Forrest Gump (1994)的观众，推荐观看Raiders of the Lost Ark (1981)，置信度为96.26%\n",
      "--------------------------------------------------------------------------------------------------------------------\n",
      "对于观看了Terminator 2: Judgment Day (1991),Star Wars (1977),Back to the Future (1985),Empire Strikes Back, The (1980)的观众，推荐观看Raiders of the Lost Ark (1981)，置信度为93.64%\n",
      "--------------------------------------------------------------------------------------------------------------------\n",
      "对于观看了Silence of the Lambs, The (1991),Empire Strikes Back, The (1980),Raiders of the Lost Ark (1981),Braveheart (1995)的观众，推荐观看Star Wars (1977)，置信度为95.33%\n",
      "--------------------------------------------------------------------------------------------------------------------\n",
      "对于观看了Terminator, The (1984),Empire Strikes Back, The (1980),Princess Bride, The (1987),Raiders of the Lost Ark (1981)的观众，推荐观看Star Wars (1977)，置信度为98.11%\n",
      "--------------------------------------------------------------------------------------------------------------------\n",
      "对于观看了Terminator 2: Judgment Day (1991),Star Wars (1977),Empire Strikes Back, The (1980),Return of the Jedi (1983)的观众，推荐观看Raiders of the Lost Ark (1981)，置信度为92.13%\n",
      "--------------------------------------------------------------------------------------------------------------------\n",
      "对于观看了Pulp Fiction (1994),Silence of the Lambs, The (1991),Empire Strikes Back, The (1980),Star Wars (1977)的观众，推荐观看Raiders of the Lost Ark (1981)，置信度为91.45%\n",
      "--------------------------------------------------------------------------------------------------------------------\n",
      "对于观看了Monty Python and the Holy Grail (1974),Silence of the Lambs, The (1991),Empire Strikes Back, The (1980),Raiders of the Lost Ark (1981)的观众，推荐观看Star Wars (1977)，置信度为95.28%\n",
      "--------------------------------------------------------------------------------------------------------------------\n",
      "对于观看了Indiana Jones and the Last Crusade (1989),Empire Strikes Back, The (1980),Raiders of the Lost Ark (1981),Fugitive, The (1993)的观众，推荐观看Star Wars (1977)，置信度为98.29%\n",
      "--------------------------------------------------------------------------------------------------------------------\n",
      "对于观看了Back to the Future (1985),Empire Strikes Back, The (1980),Princess Bride, The (1987),Raiders of the Lost Ark (1981)的观众，推荐观看Star Wars (1977)，置信度为98.08%\n",
      "--------------------------------------------------------------------------------------------------------------------\n",
      "对于观看了Monty Python and the Holy Grail (1974),Indiana Jones and the Last Crusade (1989),Star Wars (1977),Raiders of the Lost Ark (1981)的观众，推荐观看Empire Strikes Back, The (1980)，置信度为94.64%\n",
      "--------------------------------------------------------------------------------------------------------------------\n",
      "对于观看了Silence of the Lambs, The (1991),Terminator, The (1984),Empire Strikes Back, The (1980),Raiders of the Lost Ark (1981)的观众，推荐观看Star Wars (1977)，置信度为94.96%\n",
      "--------------------------------------------------------------------------------------------------------------------\n",
      "对于观看了Star Wars (1977),Empire Strikes Back, The (1980),Princess Bride, The (1987),Fugitive, The (1993)的观众，推荐观看Raiders of the Lost Ark (1981)，置信度为94.64%\n",
      "--------------------------------------------------------------------------------------------------------------------\n",
      "对于观看了Aliens (1986),Empire Strikes Back, The (1980),Return of the Jedi (1983),Raiders of the Lost Ark (1981)的观众，推荐观看Star Wars (1977)，置信度为97.14%\n",
      "--------------------------------------------------------------------------------------------------------------------\n",
      "对于观看了Star Wars (1977),Empire Strikes Back, The (1980),Return of the Jedi (1983),Fugitive, The (1993)的观众，推荐观看Raiders of the Lost Ark (1981)，置信度为91.18%\n",
      "--------------------------------------------------------------------------------------------------------------------\n",
      "对于观看了Star Wars (1977),Back to the Future (1985),Raiders of the Lost Ark (1981),Fugitive, The (1993)的观众，推荐观看Empire Strikes Back, The (1980)，置信度为91.67%\n",
      "--------------------------------------------------------------------------------------------------------------------\n",
      "对于观看了Empire Strikes Back, The (1980),Return of the Jedi (1983),Raiders of the Lost Ark (1981),Alien (1979)的观众，推荐观看Star Wars (1977)，置信度为99.10%\n",
      "--------------------------------------------------------------------------------------------------------------------\n",
      "对于观看了Terminator 2: Judgment Day (1991),Star Wars (1977),Terminator, The (1984),Raiders of the Lost Ark (1981)的观众，推荐观看Empire Strikes Back, The (1980)，置信度为90.98%\n",
      "--------------------------------------------------------------------------------------------------------------------\n",
      "对于观看了Silence of the Lambs, The (1991),Star Wars (1977),Forrest Gump (1994),Return of the Jedi (1983)的观众，推荐观看Raiders of the Lost Ark (1981)，置信度为94.39%\n",
      "--------------------------------------------------------------------------------------------------------------------\n",
      "对于观看了Pulp Fiction (1994),Star Wars (1977),Empire Strikes Back, The (1980),Fugitive, The (1993)的观众，推荐观看Raiders of the Lost Ark (1981)，置信度为91.23%\n",
      "--------------------------------------------------------------------------------------------------------------------\n",
      "对于观看了Empire Strikes Back, The (1980),Braveheart (1995),Raiders of the Lost Ark (1981),Fugitive, The (1993)的观众，推荐观看Star Wars (1977)，置信度为96.23%\n",
      "--------------------------------------------------------------------------------------------------------------------\n",
      "对于观看了Indiana Jones and the Last Crusade (1989),Back to the Future (1985),Star Wars (1977),Return of the Jedi (1983)的观众，推荐观看Empire Strikes Back, The (1980)，置信度为92.04%\n",
      "--------------------------------------------------------------------------------------------------------------------\n",
      "对于观看了Indiana Jones and the Last Crusade (1989),Back to the Future (1985),Star Wars (1977),Return of the Jedi (1983)的观众，推荐观看Raiders of the Lost Ark (1981)，置信度为92.04%\n",
      "--------------------------------------------------------------------------------------------------------------------\n",
      "对于观看了Indiana Jones and the Last Crusade (1989),Empire Strikes Back, The (1980),Star Wars (1977),Fugitive, The (1993)的观众，推荐观看Raiders of the Lost Ark (1981)，置信度为95.04%\n",
      "--------------------------------------------------------------------------------------------------------------------\n",
      "对于观看了Terminator 2: Judgment Day (1991),Star Wars (1977),Back to the Future (1985),Raiders of the Lost Ark (1981)的观众，推荐观看Empire Strikes Back, The (1980)，置信度为92.79%\n",
      "--------------------------------------------------------------------------------------------------------------------\n",
      "对于观看了Star Wars (1977),Terminator, The (1984),Back to the Future (1985),Raiders of the Lost Ark (1981)的观众，推荐观看Empire Strikes Back, The (1980)，置信度为92.59%\n",
      "--------------------------------------------------------------------------------------------------------------------\n",
      "对于观看了Empire Strikes Back, The (1980),Forrest Gump (1994),Raiders of the Lost Ark (1981),Return of the Jedi (1983)的观众，推荐观看Star Wars (1977)，置信度为98.31%\n",
      "--------------------------------------------------------------------------------------------------------------------\n",
      "对于观看了Terminator 2: Judgment Day (1991),Pulp Fiction (1994),Empire Strikes Back, The (1980),Star Wars (1977)的观众，推荐观看Raiders of the Lost Ark (1981)，置信度为90.99%\n",
      "--------------------------------------------------------------------------------------------------------------------\n",
      "对于观看了Indiana Jones and the Last Crusade (1989),Back to the Future (1985),Empire Strikes Back, The (1980),Return of the Jedi (1983)的观众，推荐观看Star Wars (1977)，置信度为99.05%\n",
      "--------------------------------------------------------------------------------------------------------------------\n",
      "对于观看了Indiana Jones and the Last Crusade (1989),Back to the Future (1985),Empire Strikes Back, The (1980),Return of the Jedi (1983)的观众，推荐观看Raiders of the Lost Ark (1981)，置信度为96.19%\n",
      "--------------------------------------------------------------------------------------------------------------------\n",
      "对于观看了Back to the Future (1985),Star Wars (1977),Terminator, The (1984),Empire Strikes Back, The (1980)的观众，推荐观看Raiders of the Lost Ark (1981)，置信度为97.09%\n",
      "--------------------------------------------------------------------------------------------------------------------\n",
      "对于观看了Star Wars (1977),Terminator, The (1984),Empire Strikes Back, The (1980),Fugitive, The (1993)的观众，推荐观看Raiders of the Lost Ark (1981)，置信度为98.13%\n",
      "--------------------------------------------------------------------------------------------------------------------\n",
      "对于观看了Back to the Future (1985),Empire Strikes Back, The (1980),Forrest Gump (1994),Raiders of the Lost Ark (1981)的观众，推荐观看Star Wars (1977)，置信度为98.10%\n",
      "--------------------------------------------------------------------------------------------------------------------\n",
      "对于观看了Silence of the Lambs, The (1991),Empire Strikes Back, The (1980),Return of the Jedi (1983),Princess Bride, The (1987)的观众，推荐观看Star Wars (1977)，置信度为98.10%\n",
      "--------------------------------------------------------------------------------------------------------------------\n",
      "对于观看了Silence of the Lambs, The (1991),Empire Strikes Back, The (1980),Return of the Jedi (1983),Princess Bride, The (1987)的观众，推荐观看Raiders of the Lost Ark (1981)，置信度为95.24%\n",
      "--------------------------------------------------------------------------------------------------------------------\n",
      "对于观看了Star Wars (1977),Terminator, The (1984),Empire Strikes Back, The (1980),Alien (1979)的观众，推荐观看Raiders of the Lost Ark (1981)，置信度为99.03%\n",
      "--------------------------------------------------------------------------------------------------------------------\n",
      "对于观看了Indiana Jones and the Last Crusade (1989),Empire Strikes Back, The (1980),Star Wars (1977),Return of the Jedi (1983)的观众，推荐观看Raiders of the Lost Ark (1981)，置信度为91.84%\n",
      "--------------------------------------------------------------------------------------------------------------------\n",
      "对于观看了Terminator 2: Judgment Day (1991),Star Wars (1977),Empire Strikes Back, The (1980),Alien (1979)的观众，推荐观看Raiders of the Lost Ark (1981)，置信度为94.39%\n",
      "--------------------------------------------------------------------------------------------------------------------\n",
      "对于观看了Indiana Jones and the Last Crusade (1989),Star Wars (1977),Raiders of the Lost Ark (1981),Silence of the Lambs, The (1991)的观众，推荐观看Empire Strikes Back, The (1980)，置信度为90.83%\n",
      "--------------------------------------------------------------------------------------------------------------------\n",
      "对于观看了Star Wars (1977),Terminator, The (1984),Empire Strikes Back, The (1980),Return of the Jedi (1983)的观众，推荐观看Raiders of the Lost Ark (1981)，置信度为97.56%\n",
      "--------------------------------------------------------------------------------------------------------------------\n",
      "对于观看了Terminator 2: Judgment Day (1991),Empire Strikes Back, The (1980),Princess Bride, The (1987),Raiders of the Lost Ark (1981)的观众，推荐观看Star Wars (1977)，置信度为99.05%\n",
      "--------------------------------------------------------------------------------------------------------------------\n",
      "对于观看了Silence of the Lambs, The (1991),Terminator, The (1984),Star Wars (1977),Return of the Jedi (1983)的观众，推荐观看Raiders of the Lost Ark (1981)，置信度为98.08%\n",
      "--------------------------------------------------------------------------------------------------------------------\n",
      "对于观看了Silence of the Lambs, The (1991),Empire Strikes Back, The (1980),Star Wars (1977),Fugitive, The (1993)的观众，推荐观看Raiders of the Lost Ark (1981)，置信度为91.80%\n",
      "--------------------------------------------------------------------------------------------------------------------\n",
      "对于观看了Aliens (1986),Star Wars (1977),Empire Strikes Back, The (1980),Alien (1979)的观众，推荐观看Raiders of the Lost Ark (1981)，置信度为90.99%\n",
      "--------------------------------------------------------------------------------------------------------------------\n",
      "对于观看了Aliens (1986),Star Wars (1977),Empire Strikes Back, The (1980),Return of the Jedi (1983)的观众，推荐观看Raiders of the Lost Ark (1981)，置信度为91.89%\n",
      "--------------------------------------------------------------------------------------------------------------------\n",
      "对于观看了Empire Strikes Back, The (1980),Return of the Jedi (1983),Raiders of the Lost Ark (1981),E.T. the Extra-Terrestrial (1982)的观众，推荐观看Star Wars (1977)，置信度为99.01%\n",
      "--------------------------------------------------------------------------------------------------------------------\n",
      "对于观看了Star Wars (1977),Back to the Future (1985),Return of the Jedi (1983),Raiders of the Lost Ark (1981)的观众，推荐观看Empire Strikes Back, The (1980)，置信度为92.59%\n",
      "--------------------------------------------------------------------------------------------------------------------\n",
      "对于观看了Indiana Jones and the Last Crusade (1989),Return of the Jedi (1983),Raiders of the Lost Ark (1981),Fugitive, The (1993)的观众，推荐观看Star Wars (1977)，置信度为98.08%\n",
      "--------------------------------------------------------------------------------------------------------------------\n",
      "对于观看了Silence of the Lambs, The (1991),Terminator, The (1984),Return of the Jedi (1983),Raiders of the Lost Ark (1981)的观众，推荐观看Star Wars (1977)，置信度为96.23%\n",
      "--------------------------------------------------------------------------------------------------------------------\n",
      "对于观看了Monty Python and the Holy Grail (1974),Empire Strikes Back, The (1980),Princess Bride, The (1987),Raiders of the Lost Ark (1981)的观众，推荐观看Star Wars (1977)，置信度为98.11%\n",
      "--------------------------------------------------------------------------------------------------------------------\n",
      "对于观看了Terminator 2: Judgment Day (1991),Terminator, The (1984),Raiders of the Lost Ark (1981),Fugitive, The (1993)的观众，推荐观看Star Wars (1977)，置信度为92.86%\n",
      "--------------------------------------------------------------------------------------------------------------------\n",
      "对于观看了Star Wars (1977),Empire Strikes Back, The (1980),Forrest Gump (1994),Return of the Jedi (1983)的观众，推荐观看Raiders of the Lost Ark (1981)，置信度为92.06%\n",
      "--------------------------------------------------------------------------------------------------------------------\n",
      "对于观看了Monty Python and the Holy Grail (1974),Empire Strikes Back, The (1980),Return of the Jedi (1983),Raiders of the Lost Ark (1981)的观众，推荐观看Star Wars (1977)，置信度为97.46%\n",
      "--------------------------------------------------------------------------------------------------------------------\n",
      "对于观看了Silence of the Lambs, The (1991),Star Wars (1977),Return of the Jedi (1983),Princess Bride, The (1987)的观众，推荐观看Empire Strikes Back, The (1980)，置信度为91.15%\n",
      "--------------------------------------------------------------------------------------------------------------------\n",
      "对于观看了Silence of the Lambs, The (1991),Star Wars (1977),Return of the Jedi (1983),Princess Bride, The (1987)的观众，推荐观看Raiders of the Lost Ark (1981)，置信度为93.81%\n",
      "--------------------------------------------------------------------------------------------------------------------\n",
      "对于观看了Star Wars (1977),Return of the Jedi (1983),Raiders of the Lost Ark (1981),Princess Bride, The (1987)的观众，推荐观看Empire Strikes Back, The (1980)，置信度为91.43%\n",
      "--------------------------------------------------------------------------------------------------------------------\n",
      "对于观看了Silence of the Lambs, The (1991),Empire Strikes Back, The (1980),Forrest Gump (1994),Raiders of the Lost Ark (1981)的观众，推荐观看Star Wars (1977)，置信度为98.20%\n",
      "--------------------------------------------------------------------------------------------------------------------\n",
      "对于观看了Silence of the Lambs, The (1991),Empire Strikes Back, The (1980),Return of the Jedi (1983),Raiders of the Lost Ark (1981)的观众，推荐观看Star Wars (1977)，置信度为97.10%\n",
      "--------------------------------------------------------------------------------------------------------------------\n",
      "对于观看了Star Wars (1977),Empire Strikes Back, The (1980),Return of the Jedi (1983),Princess Bride, The (1987)的观众，推荐观看Raiders of the Lost Ark (1981)，置信度为90.78%\n",
      "--------------------------------------------------------------------------------------------------------------------\n",
      "对于观看了Terminator 2: Judgment Day (1991),Terminator, The (1984),Empire Strikes Back, The (1980),Raiders of the Lost Ark (1981)的观众，推荐观看Star Wars (1977)，置信度为96.03%\n",
      "--------------------------------------------------------------------------------------------------------------------\n",
      "对于观看了Monty Python and the Holy Grail (1974),Indiana Jones and the Last Crusade (1989),Empire Strikes Back, The (1980),Star Wars (1977)的观众，推荐观看Raiders of the Lost Ark (1981)，置信度为96.36%\n",
      "--------------------------------------------------------------------------------------------------------------------\n",
      "对于观看了Indiana Jones and the Last Crusade (1989),Star Wars (1977),Return of the Jedi (1983),Fugitive, The (1993)的观众，推荐观看Empire Strikes Back, The (1980)，置信度为91.96%\n",
      "--------------------------------------------------------------------------------------------------------------------\n",
      "对于观看了Indiana Jones and the Last Crusade (1989),Star Wars (1977),Return of the Jedi (1983),Fugitive, The (1993)的观众，推荐观看Raiders of the Lost Ark (1981)，置信度为91.07%\n",
      "--------------------------------------------------------------------------------------------------------------------\n",
      "对于观看了Pulp Fiction (1994),Indiana Jones and the Last Crusade (1989),Empire Strikes Back, The (1980),Raiders of the Lost Ark (1981)的观众，推荐观看Star Wars (1977)，置信度为97.14%\n",
      "--------------------------------------------------------------------------------------------------------------------\n",
      "对于观看了Indiana Jones and the Last Crusade (1989),Empire Strikes Back, The (1980),Raiders of the Lost Ark (1981),Braveheart (1995)的观众，推荐观看Star Wars (1977)，置信度为98.15%\n",
      "--------------------------------------------------------------------------------------------------------------------\n",
      "对于观看了Shawshank Redemption, The (1994),Silence of the Lambs, The (1991),Empire Strikes Back, The (1980),Raiders of the Lost Ark (1981)的观众，推荐观看Star Wars (1977)，置信度为96.23%\n",
      "--------------------------------------------------------------------------------------------------------------------\n",
      "对于观看了Aliens (1986),Terminator, The (1984),Empire Strikes Back, The (1980),Raiders of the Lost Ark (1981)的观众，推荐观看Star Wars (1977)，置信度为96.23%\n",
      "--------------------------------------------------------------------------------------------------------------------\n",
      "对于观看了Blade Runner (1982),Empire Strikes Back, The (1980),Return of the Jedi (1983),Raiders of the Lost Ark (1981)的观众，推荐观看Star Wars (1977)，置信度为97.17%\n",
      "--------------------------------------------------------------------------------------------------------------------\n",
      "对于观看了Indiana Jones and the Last Crusade (1989),Star Wars (1977),Raiders of the Lost Ark (1981),Braveheart (1995)的观众，推荐观看Empire Strikes Back, The (1980)，置信度为91.38%\n",
      "--------------------------------------------------------------------------------------------------------------------\n"
     ]
    }
   ],
   "source": [
    "for freqSet, confiDict in confidenceDict.items():\n",
    "    for movieID,confidence in confiDict.items():\n",
    "        if confidence >0.9:\n",
    "            print('对于观看了{!s}的观众，推荐观看{!s}，置信度为{:.2%}'.format(getTitleByMovieID(freqSet), getTitleByMovieID(movieID), confidence))\n",
    "            print('--------------------------------------------------------------------------------------------------------------------')"
   ]
  },
  {
   "cell_type": "code",
   "execution_count": 128,
   "metadata": {
    "collapsed": false
   },
   "outputs": [],
   "source": [
    "for movieID, confidenceList in confidenceDictEachMovie.items():\n",
    "    confidenceDictEachMovie[movieID] = np.mean(confidenceList)"
   ]
  },
  {
   "cell_type": "code",
   "execution_count": 130,
   "metadata": {
    "collapsed": false
   },
   "outputs": [],
   "source": [
    "from operator import itemgetter"
   ]
  },
  {
   "cell_type": "markdown",
   "metadata": {},
   "source": [
    "# 找出平均置信度高的电影，这些电影更符合大众口味。可以推荐给新用户。"
   ]
  },
  {
   "cell_type": "code",
   "execution_count": 147,
   "metadata": {
    "collapsed": false
   },
   "outputs": [
    {
     "name": "stdout",
     "output_type": "stream",
     "text": [
      "推荐Star Wars (1977)，平均置信度为97.61%\n",
      "-----------------------------------------------------------------------\n",
      "推荐Raiders of the Lost Ark (1981)，平均置信度为93.52%\n",
      "-----------------------------------------------------------------------\n",
      "推荐Empire Strikes Back, The (1980)，平均置信度为89.76%\n",
      "-----------------------------------------------------------------------\n",
      "推荐Return of the Jedi (1983)，平均置信度为83.42%\n",
      "-----------------------------------------------------------------------\n",
      "推荐Silence of the Lambs, The (1991)，平均置信度为75.19%\n",
      "-----------------------------------------------------------------------\n"
     ]
    }
   ],
   "source": [
    "for movieID,confidence in sorted(confidenceDictEachMovie.items(), key=itemgetter(1), reverse=True)[:5]:\n",
    "    print('推荐{!s}，平均置信度为{:.2%}'.format(getTitleByMovieID(movieID), confidence))\n",
    "    print('-----------------------------------------------------------------------')"
   ]
  },
  {
   "cell_type": "code",
   "execution_count": null,
   "metadata": {
    "collapsed": true
   },
   "outputs": [],
   "source": []
  }
 ],
 "metadata": {
  "anaconda-cloud": {},
  "kernelspec": {
   "display_name": "Python [default]",
   "language": "python",
   "name": "python3"
  },
  "language_info": {
   "codemirror_mode": {
    "name": "ipython",
    "version": 3
   },
   "file_extension": ".py",
   "mimetype": "text/x-python",
   "name": "python",
   "nbconvert_exporter": "python",
   "pygments_lexer": "ipython3",
   "version": "3.5.2"
  }
 },
 "nbformat": 4,
 "nbformat_minor": 1
}
